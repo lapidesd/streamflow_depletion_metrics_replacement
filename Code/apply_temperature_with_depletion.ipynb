{
 "cells": [
  {
   "cell_type": "code",
   "execution_count": 30,
   "id": "wicked-undergraduate",
   "metadata": {},
   "outputs": [],
   "source": [
    "import matplotlib.pyplot as plt\n",
    "import pandas as pd\n",
    "import numpy as np\n",
    "import matplotlib\n",
    "%matplotlib inline\n",
    "plt.rcParams.update({'font.size': 14})\n",
    "import matplotlib.gridspec as gridspec\n",
    "import datetime\n",
    "%config InlineBackend.figure_format = 'retina'\n",
    "from datetime import datetime, date"
   ]
  },
  {
   "cell_type": "code",
   "execution_count": 33,
   "id": "9e5a9cc6",
   "metadata": {},
   "outputs": [],
   "source": [
    "# import regression parameters\n",
    "regression_params = pd.read_csv('../Data/regression_temperature_performance.csv')\n",
    "for param in ['summer_params','winter_params','spring_params','fall_params']:\n",
    "    regression_params[param] = [p[1:-1].split() for p in regression_params[param].values]\n",
    "    regression_params[param] = [[float(p[i][:-1]) for i in range(len(p))] for \n",
    "                                    p in regression_params[param].values]\n",
    "regression_params['sitenum'] = ['0'*(8-len(str(s)))+str(s) for s in regression_params.sitenum.values]\n",
    "\n",
    "# import temperature data\n",
    "gridmet_tmin = pd.read_csv('../Data/gridmet_tempsites/gridmet_Tmin_C_15yr_temp_gages.csv')\n",
    "gridmet_tmin['date'] = pd.to_datetime(gridmet_tmin['date'])\n",
    "gridmet_tmin = gridmet_tmin.set_index('date')\n",
    "\n",
    "gridmet_tmax = pd.read_csv('../Data/gridmet_tempsites/gridmet_Tmax_C_15yr_temp_gages.csv')\n",
    "gridmet_tmax['date'] = pd.to_datetime(gridmet_tmax['date'])\n",
    "gridmet_tmax = gridmet_tmax.set_index('date')\n",
    "gridmet_tmin['DOY'] = [date(gridmet_tmin.index.year.values[i], \n",
    "                            gridmet_tmin.index.month.values[i], \n",
    "                            gridmet_tmin.index.day.values[i]).timetuple().tm_yday\n",
    "                      for i in range(len(gridmet_tmin))]\n",
    "gridmet_tmax['DOY'] = gridmet_tmin['DOY']"
   ]
  },
  {
   "cell_type": "code",
   "execution_count": 64,
   "id": "precise-marine",
   "metadata": {},
   "outputs": [],
   "source": [
    "def streamT(X, a, b, c):\n",
    "    airT, Q = X\n",
    "    return a*airT + b*Q + c"
   ]
  },
  {
   "cell_type": "code",
   "execution_count": 124,
   "id": "0daec0f9",
   "metadata": {},
   "outputs": [],
   "source": [
    "num_iterations = 100\n",
    "num_years = 50\n",
    "winter_days = [1,92]\n",
    "spring_days = [92,183]\n",
    "summer_days = [183,275]\n",
    "fall_days = [275,366]\n",
    "\n",
    "site = '01095220'\n",
    "qdata = pd.read_csv('../Data/DepletedQ_Dry_Seasonal_'+str(site)+'.csv')\n",
    "qdata = qdata.set_index('Day')\n",
    "siteparam = regression_params[regression_params.sitenum.astype('str')==site]\n",
    "\n",
    "keys = ['DOY','airT','T_C']\n",
    "keys1 = ['T_C_dplt'+str(i) for i in range(1,num_iterations+1)]\n",
    "keys = keys+keys1\n",
    "\n",
    "tdata = {key:[] for key in keys}\n",
    "tdata['DOY'] = qdata.DOY.values\n",
    "\n",
    "# get median air temperature\n",
    "site_tmin = gridmet_tmin[[site,'DOY']].groupby('DOY').median()\n",
    "site_tmax = gridmet_tmax[[site,'DOY']].groupby('DOY').median()\n",
    "site_tair = ((site_tmin+site_tmax)/2)\n",
    "tdata['airT'] = (list(site_tair.values.flatten()))*num_years\n",
    "\n",
    "# formula for temperature model requires streamflow in CFS\n",
    "qdata_cfs = qdata\n",
    "for col in qdata_cfs.columns:\n",
    "    if col != 'DOY':\n",
    "        qdata_cfs[col] = qdata_cfs[col]*100**3/2.54**3/12**3\n",
    "\n",
    "# apply formula for temperature model to each streamflow timeseries\n",
    "for col in qdata_cfs.columns:\n",
    "    if col !='DOY':\n",
    "        param = siteparam.winter_params.values[0]\n",
    "        tseries = np.where((qdata.DOY>=winter_days[0]) & (qdata.DOY<winter_days[1]),\n",
    "                           [streamT((tdata['airT'][i],qdata[col].values[i]),*param)\n",
    "                           for i in range(len(qdata))],\n",
    "                           np.nan)\n",
    "        param = siteparam.spring_params.values[0]\n",
    "        tseries = np.where((qdata.DOY>=spring_days[0]) & (qdata.DOY<spring_days[1]),\n",
    "                           [streamT((tdata['airT'][i],qdata[col].values[i]),*param)\n",
    "                           for i in range(len(qdata))],\n",
    "                           tseries)\n",
    "        param = siteparam.summer_params.values[0]\n",
    "        tseries = np.where((qdata.DOY>=summer_days[0]) & (qdata.DOY<summer_days[1]),\n",
    "                           [streamT((tdata['airT'][i],qdata[col].values[i]),*param)\n",
    "                           for i in range(len(qdata))],\n",
    "                           tseries)\n",
    "        param = siteparam.fall_params.values[0]\n",
    "        tseries = np.where((qdata.DOY>=fall_days[0]) & (qdata.DOY<fall_days[1]),\n",
    "                           [streamT((tdata['airT'][i],qdata[col].values[i]),*param)\n",
    "                           for i in range(len(qdata))],\n",
    "                           tseries)\n",
    "        if col == 'Q_cms':\n",
    "            tdata['T_C'] = tseries\n",
    "        else:\n",
    "            end = col.split('_')[-1]\n",
    "            tdata['T_C_'+end] = tseries\n",
    "            \n",
    "tdata = pd.DataFrame.from_dict(tdata)\n",
    "tdata.to_csv('../Data/depleted_temperature_timeseries/depleted_temp_'+site+'.csv',index=False)"
   ]
  },
  {
   "cell_type": "code",
   "execution_count": null,
   "id": "643727a7",
   "metadata": {},
   "outputs": [
    {
     "data": {
      "text/plain": [
       "<matplotlib.legend.Legend at 0x7fe2bf0f3880>"
      ]
     },
     "execution_count": 132,
     "metadata": {},
     "output_type": "execute_result"
    }
   ],
   "source": [
    "# tdata.T_C.plot()\n",
    "for c in tdata.columns:\n",
    "    if c not in ['DOY','airT']:\n",
    "        tdata[c].plot(label = c)\n",
    "plt.xlim(0,600)\n",
    "plt.legend()\n",
    "# plt.ylim(0,25)"
   ]
  },
  {
   "cell_type": "code",
   "execution_count": null,
   "id": "ed79101f",
   "metadata": {},
   "outputs": [],
   "source": []
  }
 ],
 "metadata": {
  "kernelspec": {
   "display_name": "Python 3",
   "language": "python",
   "name": "python3"
  },
  "language_info": {
   "codemirror_mode": {
    "name": "ipython",
    "version": 3
   },
   "file_extension": ".py",
   "mimetype": "text/x-python",
   "name": "python",
   "nbconvert_exporter": "python",
   "pygments_lexer": "ipython3",
   "version": "3.8.5"
  }
 },
 "nbformat": 4,
 "nbformat_minor": 5
}
